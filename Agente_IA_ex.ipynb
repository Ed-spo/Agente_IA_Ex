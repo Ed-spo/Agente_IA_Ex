{
  "nbformat": 4,
  "nbformat_minor": 0,
  "metadata": {
    "colab": {
      "provenance": [],
      "authorship_tag": "ABX9TyPWqKv3NC46PN1geVuZJcs2",
      "include_colab_link": true
    },
    "kernelspec": {
      "name": "python3",
      "display_name": "Python 3"
    },
    "language_info": {
      "name": "python"
    }
  },
  "cells": [
    {
      "cell_type": "markdown",
      "metadata": {
        "id": "view-in-github",
        "colab_type": "text"
      },
      "source": [
        "<a href=\"https://colab.research.google.com/github/Ed-spo/Agente_IA_Ex/blob/main/Agente_IA_ex.ipynb\" target=\"_parent\"><img src=\"https://colab.research.google.com/assets/colab-badge.svg\" alt=\"Open In Colab\"/></a>"
      ]
    },
    {
      "cell_type": "code",
      "execution_count": 1,
      "metadata": {
        "colab": {
          "base_uri": "https://localhost:8080/"
        },
        "id": "RvFaHmolSmFO",
        "outputId": "92b18240-7aa6-4118-c8eb-fb974ac25e1e"
      },
      "outputs": [
        {
          "output_type": "stream",
          "name": "stdout",
          "text": [
            "Requirement already satisfied: google-generativeai in /usr/local/lib/python3.12/dist-packages (0.8.5)\n",
            "Requirement already satisfied: google-ai-generativelanguage==0.6.15 in /usr/local/lib/python3.12/dist-packages (from google-generativeai) (0.6.15)\n",
            "Requirement already satisfied: google-api-core in /usr/local/lib/python3.12/dist-packages (from google-generativeai) (2.25.1)\n",
            "Requirement already satisfied: google-api-python-client in /usr/local/lib/python3.12/dist-packages (from google-generativeai) (2.181.0)\n",
            "Requirement already satisfied: google-auth>=2.15.0 in /usr/local/lib/python3.12/dist-packages (from google-generativeai) (2.38.0)\n",
            "Requirement already satisfied: protobuf in /usr/local/lib/python3.12/dist-packages (from google-generativeai) (5.29.5)\n",
            "Requirement already satisfied: pydantic in /usr/local/lib/python3.12/dist-packages (from google-generativeai) (2.11.7)\n",
            "Requirement already satisfied: tqdm in /usr/local/lib/python3.12/dist-packages (from google-generativeai) (4.67.1)\n",
            "Requirement already satisfied: typing-extensions in /usr/local/lib/python3.12/dist-packages (from google-generativeai) (4.15.0)\n",
            "Requirement already satisfied: proto-plus<2.0.0dev,>=1.22.3 in /usr/local/lib/python3.12/dist-packages (from google-ai-generativelanguage==0.6.15->google-generativeai) (1.26.1)\n",
            "Requirement already satisfied: googleapis-common-protos<2.0.0,>=1.56.2 in /usr/local/lib/python3.12/dist-packages (from google-api-core->google-generativeai) (1.70.0)\n",
            "Requirement already satisfied: requests<3.0.0,>=2.18.0 in /usr/local/lib/python3.12/dist-packages (from google-api-core->google-generativeai) (2.32.4)\n",
            "Requirement already satisfied: cachetools<6.0,>=2.0.0 in /usr/local/lib/python3.12/dist-packages (from google-auth>=2.15.0->google-generativeai) (5.5.2)\n",
            "Requirement already satisfied: pyasn1-modules>=0.2.1 in /usr/local/lib/python3.12/dist-packages (from google-auth>=2.15.0->google-generativeai) (0.4.2)\n",
            "Requirement already satisfied: rsa<5,>=3.1.4 in /usr/local/lib/python3.12/dist-packages (from google-auth>=2.15.0->google-generativeai) (4.9.1)\n",
            "Requirement already satisfied: httplib2<1.0.0,>=0.19.0 in /usr/local/lib/python3.12/dist-packages (from google-api-python-client->google-generativeai) (0.30.0)\n",
            "Requirement already satisfied: google-auth-httplib2<1.0.0,>=0.2.0 in /usr/local/lib/python3.12/dist-packages (from google-api-python-client->google-generativeai) (0.2.0)\n",
            "Requirement already satisfied: uritemplate<5,>=3.0.1 in /usr/local/lib/python3.12/dist-packages (from google-api-python-client->google-generativeai) (4.2.0)\n",
            "Requirement already satisfied: annotated-types>=0.6.0 in /usr/local/lib/python3.12/dist-packages (from pydantic->google-generativeai) (0.7.0)\n",
            "Requirement already satisfied: pydantic-core==2.33.2 in /usr/local/lib/python3.12/dist-packages (from pydantic->google-generativeai) (2.33.2)\n",
            "Requirement already satisfied: typing-inspection>=0.4.0 in /usr/local/lib/python3.12/dist-packages (from pydantic->google-generativeai) (0.4.1)\n",
            "Requirement already satisfied: grpcio<2.0.0,>=1.33.2 in /usr/local/lib/python3.12/dist-packages (from google-api-core[grpc]!=2.0.*,!=2.1.*,!=2.10.*,!=2.2.*,!=2.3.*,!=2.4.*,!=2.5.*,!=2.6.*,!=2.7.*,!=2.8.*,!=2.9.*,<3.0.0dev,>=1.34.1->google-ai-generativelanguage==0.6.15->google-generativeai) (1.74.0)\n",
            "Requirement already satisfied: grpcio-status<2.0.0,>=1.33.2 in /usr/local/lib/python3.12/dist-packages (from google-api-core[grpc]!=2.0.*,!=2.1.*,!=2.10.*,!=2.2.*,!=2.3.*,!=2.4.*,!=2.5.*,!=2.6.*,!=2.7.*,!=2.8.*,!=2.9.*,<3.0.0dev,>=1.34.1->google-ai-generativelanguage==0.6.15->google-generativeai) (1.71.2)\n",
            "Requirement already satisfied: pyparsing<4,>=3.0.4 in /usr/local/lib/python3.12/dist-packages (from httplib2<1.0.0,>=0.19.0->google-api-python-client->google-generativeai) (3.2.3)\n",
            "Requirement already satisfied: pyasn1<0.7.0,>=0.6.1 in /usr/local/lib/python3.12/dist-packages (from pyasn1-modules>=0.2.1->google-auth>=2.15.0->google-generativeai) (0.6.1)\n",
            "Requirement already satisfied: charset_normalizer<4,>=2 in /usr/local/lib/python3.12/dist-packages (from requests<3.0.0,>=2.18.0->google-api-core->google-generativeai) (3.4.3)\n",
            "Requirement already satisfied: idna<4,>=2.5 in /usr/local/lib/python3.12/dist-packages (from requests<3.0.0,>=2.18.0->google-api-core->google-generativeai) (3.10)\n",
            "Requirement already satisfied: urllib3<3,>=1.21.1 in /usr/local/lib/python3.12/dist-packages (from requests<3.0.0,>=2.18.0->google-api-core->google-generativeai) (2.5.0)\n",
            "Requirement already satisfied: certifi>=2017.4.17 in /usr/local/lib/python3.12/dist-packages (from requests<3.0.0,>=2.18.0->google-api-core->google-generativeai) (2025.8.3)\n"
          ]
        }
      ],
      "source": [
        "!pip install -U google-generativeai"
      ]
    },
    {
      "cell_type": "code",
      "source": [
        "import google.generativeai as genai"
      ],
      "metadata": {
        "id": "MiXte4S-TKx5"
      },
      "execution_count": 3,
      "outputs": []
    },
    {
      "cell_type": "code",
      "source": [
        "from google.colab import userdata\n",
        "\n",
        "GOOGLE_GEMINI_API_KEY = userdata.get('GOOGLE_GEMINI_API_KEY')\n",
        "\n",
        "genai.configure(api_key=GOOGLE_GEMINI_API_KEY)"
      ],
      "metadata": {
        "id": "0AZR-s7bVQeM"
      },
      "execution_count": 5,
      "outputs": []
    },
    {
      "cell_type": "code",
      "source": [
        "for m in genai.list_models():\n",
        "  if 'generateContent' in m.supported_generation_methods:\n",
        "    print(m.name)"
      ],
      "metadata": {
        "colab": {
          "base_uri": "https://localhost:8080/",
          "height": 784
        },
        "id": "1tGlhAT0Xbua",
        "outputId": "2ee192db-168c-428a-b50a-9b8b7bbcf06c"
      },
      "execution_count": 6,
      "outputs": [
        {
          "output_type": "stream",
          "name": "stdout",
          "text": [
            "models/gemini-1.5-pro-latest\n",
            "models/gemini-1.5-pro-002\n",
            "models/gemini-1.5-pro\n",
            "models/gemini-1.5-flash-latest\n",
            "models/gemini-1.5-flash\n",
            "models/gemini-1.5-flash-002\n",
            "models/gemini-1.5-flash-8b\n",
            "models/gemini-1.5-flash-8b-001\n",
            "models/gemini-1.5-flash-8b-latest\n",
            "models/gemini-2.5-pro-preview-03-25\n",
            "models/gemini-2.5-flash-preview-05-20\n",
            "models/gemini-2.5-flash\n",
            "models/gemini-2.5-flash-lite-preview-06-17\n",
            "models/gemini-2.5-pro-preview-05-06\n",
            "models/gemini-2.5-pro-preview-06-05\n",
            "models/gemini-2.5-pro\n",
            "models/gemini-2.0-flash-exp\n",
            "models/gemini-2.0-flash\n",
            "models/gemini-2.0-flash-001\n",
            "models/gemini-2.0-flash-exp-image-generation\n",
            "models/gemini-2.0-flash-lite-001\n",
            "models/gemini-2.0-flash-lite\n",
            "models/gemini-2.0-flash-preview-image-generation\n",
            "models/gemini-2.0-flash-lite-preview-02-05\n",
            "models/gemini-2.0-flash-lite-preview\n",
            "models/gemini-2.0-pro-exp\n",
            "models/gemini-2.0-pro-exp-02-05\n",
            "models/gemini-exp-1206\n",
            "models/gemini-2.0-flash-thinking-exp-01-21\n",
            "models/gemini-2.0-flash-thinking-exp\n",
            "models/gemini-2.0-flash-thinking-exp-1219\n",
            "models/gemini-2.5-flash-preview-tts\n",
            "models/gemini-2.5-pro-preview-tts\n",
            "models/learnlm-2.0-flash-experimental\n",
            "models/gemma-3-1b-it\n",
            "models/gemma-3-4b-it\n",
            "models/gemma-3-12b-it\n",
            "models/gemma-3-27b-it\n",
            "models/gemma-3n-e4b-it\n",
            "models/gemma-3n-e2b-it\n",
            "models/gemini-2.5-flash-lite\n",
            "models/gemini-2.5-flash-image-preview\n"
          ]
        }
      ]
    },
    {
      "cell_type": "code",
      "source": [
        "model = genai.GenerativeModel('gemini-2.0-flash-exp')"
      ],
      "metadata": {
        "id": "8KuDM_YrYBOW"
      },
      "execution_count": 9,
      "outputs": []
    },
    {
      "cell_type": "code",
      "source": [
        "# Gerar Conteudo\n",
        "resposta = model.generate_content('Quem criou os modelos de IA Gemini?')\n",
        "resposta.text"
      ],
      "metadata": {
        "colab": {
          "base_uri": "https://localhost:8080/",
          "height": 36
        },
        "id": "lx1CwxOMYtjQ",
        "outputId": "597b02fb-f123-43f6-d60d-18f1d93b0030"
      },
      "execution_count": 10,
      "outputs": [
        {
          "output_type": "execute_result",
          "data": {
            "text/plain": [
              "'Os modelos de IA Gemini foram criados pelo Google. Mais especificamente, pelo Google AI, a divisão de pesquisa e desenvolvimento de inteligência artificial da empresa.\\n'"
            ],
            "application/vnd.google.colaboratory.intrinsic+json": {
              "type": "string"
            }
          },
          "metadata": {},
          "execution_count": 10
        }
      ]
    },
    {
      "cell_type": "code",
      "source": [
        "# Criando um chat\n",
        "chat = model.start_chat(history=[])\n",
        "\n",
        "# Criando um prompt\n",
        "prompt = input('Esperando um prompt: ')\n",
        "\n",
        "while prompt != 'fim':\n",
        "  resposta = chat.send_message(prompt)\n",
        "  print(resposta.text)\n",
        "  prompt = input('Esperando um prompt: ')\n",
        "\n"
      ],
      "metadata": {
        "colab": {
          "base_uri": "https://localhost:8080/",
          "height": 841
        },
        "id": "3DAmJ_iJZSC2",
        "outputId": "f2fc81e6-9abf-497a-ac91-a852535588fe"
      },
      "execution_count": 11,
      "outputs": [
        {
          "name": "stdout",
          "output_type": "stream",
          "text": [
            "Esperando um prompt: Do que é feito a terra?\n",
            "A \"terra\" pode se referir a diferentes coisas, então vamos abordar algumas possibilidades:\n",
            "\n",
            "**1. Terra no sentido de solo:**\n",
            "\n",
            "O solo é uma mistura complexa de:\n",
            "\n",
            "*   **Minerais:** Fragmentos de rochas (como quartzo, feldspato, mica) que foram quebradas por processos de erosão e intemperismo. Eles fornecem nutrientes para as plantas.\n",
            "*   **Matéria orgânica:** Restos de plantas e animais em diferentes estágios de decomposição. A matéria orgânica melhora a estrutura do solo, retém água e nutrientes, e fornece energia para os microrganismos.\n",
            "*   **Água:** Essencial para a vida no solo e para o transporte de nutrientes para as plantas.\n",
            "*   **Ar:** O solo contém espaços vazios preenchidos com ar, que é importante para a respiração das raízes das plantas e dos microrganismos.\n",
            "*   **Microrganismos:** Bactérias, fungos, protozoários e outros organismos que desempenham um papel crucial na decomposição da matéria orgânica e na ciclagem de nutrientes.\n",
            "\n",
            "A proporção desses componentes varia dependendo do tipo de solo, do clima, da vegetação e da atividade humana.\n",
            "\n",
            "**2. Terra no sentido de planeta Terra:**\n",
            "\n",
            "O planeta Terra é composto por:\n",
            "\n",
            "*   **Núcleo:** Principalmente ferro e níquel. É dividido em um núcleo interno sólido e um núcleo externo líquido.\n",
            "*   **Manto:** Camada espessa de rochas (principalmente silicatos) em estado sólido, mas com comportamento plástico (pode fluir lentamente ao longo de milhões de anos).\n",
            "*   **Crosta:** Camada externa fina e rochosa, dividida em placas tectônicas que se movem lentamente sobre o manto. A crosta é composta por rochas ígneas, sedimentares e metamórficas.\n",
            "*   **Atmosfera:** Camada de gases que envolve o planeta, composta principalmente por nitrogênio e oxigênio, além de outros gases como argônio, dióxido de carbono e vapor d'água.\n",
            "*   **Hidrosfera:** Toda a água do planeta, incluindo oceanos, rios, lagos, geleiras e água subterrânea.\n",
            "*   **Biosfera:** Todas as formas de vida no planeta, incluindo plantas, animais, microrganismos e ecossistemas.\n",
            "\n",
            "**3. Terra no sentido de \"chão\" ou \"terreno\":**\n",
            "\n",
            "Nesse caso, \"terra\" pode se referir à superfície do planeta, que pode ser composta por solo, rochas, areia, vegetação, construções humanas, etc.\n",
            "\n",
            "Se você puder especificar a qual \"terra\" você se refere, posso fornecer uma resposta mais precisa.\n",
            "Esperando um prompt: E o sol?\n",
            "O Sol é uma estrela, e é feito principalmente de:\n",
            "\n",
            "*   **Hidrogênio (cerca de 71% da massa):** É o elemento mais abundante no Sol e o \"combustível\" para as reações nucleares que produzem a energia solar.\n",
            "\n",
            "*   **Hélio (cerca de 27% da massa):** É o segundo elemento mais abundante no Sol. É produzido como resultado das reações nucleares no núcleo solar.\n",
            "\n",
            "*   **Outros elementos (cerca de 2% da massa):** Incluem oxigênio, carbono, nitrogênio, silício, magnésio, ferro e muitos outros elementos em quantidades menores.\n",
            "\n",
            "É importante notar que o Sol está em um estado de plasma, o que significa que os átomos foram despojados de seus elétrons devido às altas temperaturas e pressões. Isso faz com que o Sol seja uma \"sopa\" de núcleos atômicos e elétrons livres, não átomos neutros como encontramos na Terra.\n",
            "\n",
            "O Sol gera energia através de um processo chamado **fusão nuclear**, onde átomos de hidrogênio se fundem para formar hélio, liberando uma enorme quantidade de energia na forma de luz e calor. Essa energia é o que sustenta a vida na Terra.\n",
            "Esperando um prompt: fim\n"
          ]
        }
      ]
    },
    {
      "cell_type": "code",
      "source": [
        "import os\n",
        "os.getcwd()"
      ],
      "metadata": {
        "colab": {
          "base_uri": "https://localhost:8080/",
          "height": 36
        },
        "id": "Oqwojt2NcatA",
        "outputId": "1fb92e01-b9eb-42dc-a765-6322a65f90e5"
      },
      "execution_count": 12,
      "outputs": [
        {
          "output_type": "execute_result",
          "data": {
            "text/plain": [
              "'/content'"
            ],
            "application/vnd.google.colaboratory.intrinsic+json": {
              "type": "string"
            }
          },
          "metadata": {},
          "execution_count": 12
        }
      ]
    },
    {
      "cell_type": "code",
      "source": [],
      "metadata": {
        "id": "j4ETTLeLdn0f"
      },
      "execution_count": null,
      "outputs": []
    },
    {
      "cell_type": "markdown",
      "metadata": {
        "id": "a7273edf"
      },
      "source": [
        "# Projeto Agente de IA no Google Colab\n",
        "\n",
        "Este projeto demonstra a criação de um agente de IA interativo utilizando a API Gemini no Google Colab.\n",
        "\n",
        "## Descrição\n",
        "\n",
        "Este notebook do Google Colab configura e utiliza a API Gemini para criar um agente de conversação simples. Ele permite que o usuário interaja com o modelo Gemini através de um loop de chat interativo.\n",
        "\n",
        "## Funcionalidades\n",
        "\n",
        "- Instalação das bibliotecas necessárias (`google-generativeai`).\n",
        "- Configuração da API Gemini utilizando uma chave de API armazenada de forma segura nos segredos do Colab.\n",
        "- Listagem dos modelos Gemini disponíveis para geração de conteúdo.\n",
        "- Inicialização de um modelo Gemini específico (`gemini-2.0-flash-exp` neste exemplo).\n",
        "- Criação de um chat interativo com histórico.\n",
        "- Loop de entrada do usuário para enviar prompts ao agente de IA e exibir as respostas.\n",
        "\n",
        "## Pré-requisitos\n",
        "\n",
        "- Uma conta Google.\n",
        "- Acesso ao Google Colab.\n",
        "- Uma chave de API para a API Gemini. Você pode obter uma em [Google AI Studio](https://aistudio.google.com/).\n",
        "- A chave de API deve ser adicionada aos segredos do Colab com o nome `GOOGLE_GEMINI_API_KEY`.\n",
        "\n",
        "## Como usar\n",
        "\n",
        "1. Abra este notebook no Google Colab.\n",
        "2. Certifique-se de ter adicionado sua chave de API Gemini aos segredos do Colab com o nome `GOOGLE_GEMINI_API_KEY`.\n",
        "3. Execute todas as células do notebook em sequência.\n",
        "4. A célula que inicia o chat interativo (`3DAmJ_iJZSC2`) solicitará um prompt. Digite sua pergunta ou instrução e pressione Enter.\n",
        "5. O agente de IA responderá. Você pode continuar digitando prompts até digitar 'fim' para sair do chat.\n",
        "\n",
        "## Estrutura do Notebook\n",
        "\n",
        "- **Instalação:** Instala a biblioteca `google-generativeai`.\n",
        "- **Importação:** Importa as bibliotecas necessárias.\n",
        "- **Configuração da API:** Configura a API Gemini com a chave de API.\n",
        "- **Listar Modelos:** Exibe os modelos Gemini disponíveis.\n",
        "- **Inicializar Modelo:** Inicializa o modelo Gemini a ser utilizado.\n",
        "- **Chat Interativo:** Implementa o loop de chat com o agente de IA.\n",
        "\n",
        "## Contribuindo\n",
        "\n",
        "Contribuições são bem-vindas! Se você tiver sugestões de melhoria ou encontrar problemas, sinta-se à vontade para abrir uma issue ou enviar um pull request.\n",
        "\n",
        "## Licença\n",
        "\n",
        "[Seu tipo de licença, por exemplo, MIT License]\n",
        "\n",
        "## Autor\n",
        "\n",
        "[Seu Nome ou Pseudônimo]"
      ]
    }
  ]
}